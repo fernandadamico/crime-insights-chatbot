{
 "cells": [
  {
   "cell_type": "markdown",
   "id": "71a6299a",
   "metadata": {},
   "source": [
    "## Validation"
   ]
  },
  {
   "cell_type": "code",
   "execution_count": 2,
   "id": "cc2e2949",
   "metadata": {},
   "outputs": [],
   "source": [
    "import pandas as pd"
   ]
  },
  {
   "cell_type": "code",
   "execution_count": 4,
   "id": "153e0eba",
   "metadata": {},
   "outputs": [],
   "source": [
    "df = pd.read_csv(\"C:/Users/Fernanda D'Amico/Documents/crime-insights-chatbot/data/crimes_chicago_v2.csv\")\n",
    "df.columns = df.columns.str.strip()"
   ]
  },
  {
   "cell_type": "code",
   "execution_count": 5,
   "id": "1c25684c",
   "metadata": {},
   "outputs": [],
   "source": [
    "# Ensure data type consistency\n",
    "df['community_area'] = pd.to_numeric(df['community_area'], errors='coerce')\n",
    "df['arrest'] = df['arrest'].astype(str).str.lower() == 'true'\n",
    "df['domestic'] = df['domestic'].astype(str).str.lower() == 'true'\n",
    "df[\"date\"] = pd.to_datetime(df[\"date\"])"
   ]
  },
  {
   "cell_type": "code",
   "execution_count": 8,
   "id": "324b5b40",
   "metadata": {},
   "outputs": [
    {
     "name": "stdout",
     "output_type": "stream",
     "text": [
      "1. Thefts em 5/03/2021: 106\n"
     ]
    }
   ],
   "source": [
    "# --- 1. How many thefts were reported in March 5th of 2021? ---\n",
    "date_filter = pd.Timestamp(\"2021-03-05\")\n",
    "thefts_2021_03_05 = df[\n",
    "    (df[\"date\"].dt.date == date_filter.date()) & \n",
    "    (df[\"primary_type\"] == \"THEFT\")\n",
    "]\n",
    "print(\"1. Thefts em 5/03/2021:\", len(thefts_2021_03_05))"
   ]
  },
  {
   "cell_type": "code",
   "execution_count": 74,
   "id": "7ba9fe87",
   "metadata": {},
   "outputs": [
    {
     "name": "stdout",
     "output_type": "stream",
     "text": [
      "2. Robberies in CA 15: 63, in CA 24: 407\n"
     ]
    }
   ],
   "source": [
    "# --- 2. Compare the number of robberies between Community Area 15 and Community Area 24 in the year 2022. ---\n",
    "robberies = df[(df[\"year\"] == 2022) & (df[\"primary_type\"] == \"ROBBERY\")]\n",
    "rob_ca15 = len(robberies[robberies[\"community_area\"] == 15])\n",
    "rob_ca24 = len(robberies[robberies[\"community_area\"] == 24])\n",
    "print(f\"2. Robberies in CA 15: {rob_ca15}, in CA 24: {rob_ca24}\")"
   ]
  },
  {
   "cell_type": "code",
   "execution_count": 75,
   "id": "1cf4de41",
   "metadata": {},
   "outputs": [
    {
     "name": "stdout",
     "output_type": "stream",
     "text": [
      "3. CA with the most drug-related crimes in 2020: 23.0\n"
     ]
    }
   ],
   "source": [
    "# --- 3. Which community area had the most drug-related crimes in 2020? ---\n",
    "drugs_2020 = df[(df[\"year\"] == 2020) & (df[\"primary_type\"] == \"NARCOTICS\")]\n",
    "top_drug_area = drugs_2020[\"community_area\"].value_counts().idxmax()\n",
    "print(\"3. CA with the most drug-related crimes in 2020:\", top_drug_area)"
   ]
  },
  {
   "cell_type": "code",
   "execution_count": 76,
   "id": "fe1513b4",
   "metadata": {},
   "outputs": [
    {
     "name": "stdout",
     "output_type": "stream",
     "text": [
      "4. Burglaries in CA 8: 151, in CA 25: 316\n"
     ]
    }
   ],
   "source": [
    "# --- 4. Compare the number of robberies between Community Area 8 and Community Area 25 in 2021. ---\n",
    "burgs = df[(df[\"date\"].dt.year == 2021) & (df[\"primary_type\"] == \"BURGLARY\")]\n",
    "burg_ca8 = len(burgs[burgs[\"community_area\"] == 8])\n",
    "burg_ca25 = len(burgs[burgs[\"community_area\"] == 25])\n",
    "print(f\"4. Burglaries in CA 8: {burg_ca8}, in CA 25: {burg_ca25}\")"
   ]
  },
  {
   "cell_type": "code",
   "execution_count": 77,
   "id": "676fd506",
   "metadata": {},
   "outputs": [
    {
     "name": "stdout",
     "output_type": "stream",
     "text": [
      "5. The most common crime type reported in 2020: BATTERY\n"
     ]
    }
   ],
   "source": [
    "# --- 5. What was the most common crime type reported in 2020? ---\n",
    "common_2020 = df[df[\"year\"] == 2020][\"primary_type\"].value_counts().idxmax()\n",
    "print(\"5. The most common crime type reported in 2020:\", common_2020)"
   ]
  },
  {
   "cell_type": "code",
   "execution_count": 78,
   "id": "d6f9c030",
   "metadata": {},
   "outputs": [
    {
     "name": "stdout",
     "output_type": "stream",
     "text": [
      "6. Domestic incidents in CA 10 in 2022: 164\n"
     ]
    }
   ],
   "source": [
    "# --- 6. How many domestic incidents were reported in Community Area 10 in 2022? ---\n",
    "domestic_10_2022 = df[\n",
    "    (df[\"year\"] == 2022) & \n",
    "    (df[\"community_area\"] == 10) & \n",
    "    (df[\"domestic\"] == True)\n",
    "]\n",
    "print(\"6. Domestic incidents in CA 10 in 2022:\", len(domestic_10_2022))"
   ]
  },
  {
   "cell_type": "code",
   "execution_count": 79,
   "id": "92561042",
   "metadata": {},
   "outputs": [
    {
     "name": "stdout",
     "output_type": "stream",
     "text": [
      "7. More crimes in 2021: THEFT\n"
     ]
    }
   ],
   "source": [
    "# --- 7. Were there more thefts or robberies in 2021? ---\n",
    "thefts_2021 = len(df[(df[\"year\"] == 2021) & (df[\"primary_type\"] == \"THEFT\")])\n",
    "robberies_2021 = len(df[(df[\"year\"] == 2021) & (df[\"primary_type\"] == \"ROBBERY\")])\n",
    "print(\"7. More crimes in 2021:\", \"THEFT\" if thefts_2021 > robberies_2021 else \"ROBBERY\")\n"
   ]
  },
  {
   "cell_type": "code",
   "execution_count": null,
   "id": "a8707f89",
   "metadata": {},
   "outputs": [
    {
     "name": "stdout",
     "output_type": "stream",
     "text": [
      "8. Crimes in residencies in 2020: 46178\n"
     ]
    }
   ],
   "source": [
    "# --- 8. How many crimes occurred in residences during 2020? ---\n",
    "resid_2020 = df[(df[\"year\"] == 2020) & (df[\"domestic\"] == True)]\n",
    "print(\"8. Crimes in residencies in 2020:\", len(resid_2020))"
   ]
  },
  {
   "cell_type": "code",
   "execution_count": 81,
   "id": "fc65bf89",
   "metadata": {},
   "outputs": [
    {
     "name": "stdout",
     "output_type": "stream",
     "text": [
      "9. Arrests in CA 63 and 65 in 2022: 323\n"
     ]
    }
   ],
   "source": [
    "# --- 9. What's number of arrests in Community Area 63 and 65 in 2022. ---\n",
    "arrests = df[\n",
    "    (df[\"year\"] == 2022) & \n",
    "    (df[\"arrest\"] == True) & \n",
    "    (df[\"community_area\"].isin([63, 65]))\n",
    "]\n",
    "print(\"9. Arrests in CA 63 and 65 in 2022:\", len(arrests))"
   ]
  },
  {
   "cell_type": "code",
   "execution_count": 82,
   "id": "149caf79",
   "metadata": {},
   "outputs": [
    {
     "name": "stdout",
     "output_type": "stream",
     "text": [
      "10. Least common in CA 15 in 2020: STALKING\n"
     ]
    }
   ],
   "source": [
    "# --- 10. What was the least common crime type in Community Area 15 in 2020? ---\n",
    "ca15_2020 = df[(df[\"year\"] == 2020) & (df[\"community_area\"] == 15)]\n",
    "least_common = ca15_2020[\"primary_type\"].value_counts().idxmin()\n",
    "print(\"10. Least common in CA 15 in 2020:\", least_common)\n"
   ]
  },
  {
   "cell_type": "code",
   "execution_count": 85,
   "id": "1f2e83df",
   "metadata": {},
   "outputs": [
    {
     "name": "stdout",
     "output_type": "stream",
     "text": [
      "11. not available in dataset.\n"
     ]
    }
   ],
   "source": [
    "# --- 11. What is the average police response time for robberies in 2021?  ---\n",
    "print(\"11. not available in dataset.\")"
   ]
  },
  {
   "cell_type": "code",
   "execution_count": 86,
   "id": "d31bfbd4",
   "metadata": {},
   "outputs": [
    {
     "name": "stdout",
     "output_type": "stream",
     "text": [
      "12. not available in dataset.\n"
     ]
    }
   ],
   "source": [
    "# --- 12. What's the weather usually like in Chicago during December?  ---\n",
    "print(\"12. not available in dataset.\")"
   ]
  }
 ],
 "metadata": {
  "kernelspec": {
   "display_name": "venv",
   "language": "python",
   "name": "python3"
  },
  "language_info": {
   "codemirror_mode": {
    "name": "ipython",
    "version": 3
   },
   "file_extension": ".py",
   "mimetype": "text/x-python",
   "name": "python",
   "nbconvert_exporter": "python",
   "pygments_lexer": "ipython3",
   "version": "3.11.9"
  }
 },
 "nbformat": 4,
 "nbformat_minor": 5
}
